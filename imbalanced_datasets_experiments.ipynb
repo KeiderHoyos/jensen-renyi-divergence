{
 "cells": [
  {
   "cell_type": "markdown",
   "metadata": {},
   "source": [
    "# The Representation Jensen-Rényi Divergence\n",
    "## Imbalanced data Representation"
   ]
  },
  {
   "cell_type": "markdown",
   "metadata": {},
   "source": [
    "In this notebook we perform experiments to subsample imbalanced datasets by using the **Representation Jensen-Rényi Divergence (JRD)**. In particular, in imbalanced data classification, there is one class that has a higher number of samples than the other. Here, we are interested in subsampling the majority class by finding a set of fewer samples that minimizes its divergence with the majority class."
   ]
  },
  {
   "cell_type": "code",
   "execution_count": 14,
   "metadata": {},
   "outputs": [],
   "source": [
    "%matplotlib inline\n",
    "from IPython import display\n",
    "import torch\n",
    "from torch.autograd import grad\n",
    "import matplotlib.pyplot as plt\n",
    "import numpy as np\n",
    "import sys\n",
    "import os\n",
    "import pandas as pd\n",
    "\n",
    "from sklearn.svm import SVC\n",
    "from sklearn.metrics import roc_auc_score\n",
    "from sklearn.preprocessing import StandardScaler\n",
    "from sklearn.model_selection import StratifiedShuffleSplit\n",
    "from sklearn.model_selection import GridSearchCV\n",
    "from sklearn.model_selection import train_test_split\n",
    "from sklearn.metrics import pairwise_distances\n",
    "from sklearn.datasets import make_moons\n",
    "\n",
    "\n",
    "import repitl.divergences as div\n",
    "import repitl.kernel_utils as ku\n",
    "import repitl.matrix_itl_approx as approx\n",
    "import repitl.matrix_itl as itl"
   ]
  },
  {
   "cell_type": "markdown",
   "metadata": {},
   "source": [
    "## Representation subsampling DEMO\n",
    "Here, we show a DEMO on a toy dataset to visualize how the subsampling works. Suppose the blue points from the moons dataset are the majority class containing $N$ samples, and you want to subsample $m$ samples from it. To achieve this, we draw $m$ samples uniformly distributed in the range where the data is distributed, and let those points to minimize its divergence with respect to the original set of points."
   ]
  },
  {
   "cell_type": "code",
   "execution_count": 15,
   "metadata": {},
   "outputs": [],
   "source": [
    "def JRD_sampling(X,n_samples,sigma= 1,alpha=1.01,lr = 0.1, n_iter = 120, weighted = False, n_rff = None, plot = False):\n",
    "    '''\n",
    "    Function to select a set of relevant samples by minimizing JRD\n",
    "    Args: \n",
    "        X: Dataset to subsample from\n",
    "        n_samples: Number of samples to select from X\n",
    "        sigma: Kernel bandwidth\n",
    "        alpha: Order of the entropy\n",
    "        lr: Learning rate\n",
    "        n_iter : Number of iterations\n",
    "        weighted: variable to control if using weighted version of the JRD\n",
    "        n_rff: Number of Random Fourier Features to approximate Gaussian Kernel,\n",
    "               If it is None, regular JRD is computed without any approximation\n",
    "        plot: variable to specify if plotting or not.\n",
    "    '''\n",
    "    n = X.shape[0]\n",
    "    d = X.shape[1]\n",
    "    # Samples uniformly sampled in the range -2 to 2. This range can be modified according to the \n",
    "    # range where the data is distributed. (This range work well for standard-normalized data)\n",
    "    Y_ = np.random.uniform(-2.0, 2.0, (n_samples, d))\n",
    "    # Convert data to torch and create labels\n",
    "    X = torch.from_numpy(X)\n",
    "    Y = torch.tensor(Y_,requires_grad = True,dtype=X.dtype)\n",
    "\n",
    "    optimizer = torch.optim.Adam([Y, ], lr=lr)\n",
    "    \n",
    "    # Plot configuration\n",
    "    if plot:\n",
    "        fig, ax = plt.subplots(1,1,figsize=(4,4))\n",
    "    \n",
    "    for i in range(n_iter):\n",
    "        optimizer.zero_grad()\n",
    "        djr = div.divergenceJR(X,Y,sigma,alpha, weighted = weighted, n_rff = n_rff)   \n",
    "        djr.backward()\n",
    "        optimizer.step()\n",
    "        if plot:            \n",
    "            ax.cla()\n",
    "            ax.plot(X[:,0],X[:,1] ,'.')\n",
    "            ax.plot(Y[:,0].detach().numpy(),Y[:,1].detach().numpy(),'.',c='#FF7F50',markersize=20)\n",
    "            ax.set_aspect('equal')\n",
    "            ax.set_xlim((-2., 2.))\n",
    "            ax.set_ylim((-2., 2.))\n",
    "            ax.axis('off')\n",
    "            display.display(plt.gcf())\n",
    "            display.clear_output(wait=True)\n",
    "            \n",
    "    return Y.detach().numpy() "
   ]
  },
  {
   "cell_type": "code",
   "execution_count": 16,
   "metadata": {},
   "outputs": [
    {
     "data": {
      "image/png": "[encoded data removed]",
      "text/plain": [
       "<Figure size 288x288 with 1 Axes>"
      ]
     },
     "metadata": {
      "needs_background": "light"
     },
     "output_type": "display_data"
    }
   ],
   "source": [
    "N = 300 # Samples in the majority class\n",
    "m = 20  # Number of samples to select\n",
    "X, _ = make_moons(noise=0.08, random_state=1, n_samples = N)\n",
    "scaler = StandardScaler()    # Data normalization\n",
    "X = scaler.fit_transform(X)\n",
    "X_subsampled = JRD_sampling(X,n_samples = m,sigma = 0.5,alpha=1.01,lr = 0.1, n_iter = 300, weighted = True, plot = True)"
   ]
  },
  {
   "cell_type": "markdown",
   "metadata": {},
   "source": [
    "## Imbalanced data classification experiments\n",
    "\n",
    "In the next section you will find the experiments conducted in the paper \"The Representation Jensen-Renyí divergence\" for imbalanced data classification. \n",
    "\n",
    "We assessed the JRD subsampling on 44 imbalanced, two-class datasets from the “Knowledge Extraction based on\n",
    "Evolutionary Learning” (KEEL) repository. Next, we provide functions to load the datasets."
   ]
  },
  {
   "cell_type": "code",
   "execution_count": 17,
   "metadata": {},
   "outputs": [],
   "source": [
    "# Load datasets\n",
    "def load_dataset(dataset,fold):\n",
    "    \"\"\"\n",
    "    Function to load imbalanced datasets from KEEL repository\n",
    "    Args: \n",
    "        dataset: Dataset name\n",
    "        fold: fold number\n",
    "    Returns:\n",
    "        Xtrain,Ytrain,Xtest,Ytest: Train and testing sets\n",
    "    \"\"\"\n",
    "    ftrain= './Imbalanced_data/' + dataset + '-5-' + str(fold) + 'tra.dat'\n",
    "    ftest = './Imbalanced_data/' + dataset + '-5-' + str(fold) + 'tst.dat'\n",
    "    df     = pd.read_table(ftrain,sep = ',',delimiter = ',', header = None, comment='@', skiprows = 0,engine='python')\n",
    "    dftest = pd.read_table(ftest ,sep = ',',delimiter = ',', header = None, comment='@', skiprows = 0,engine='python')\n",
    "    Xtrain = df._get_numeric_data()\n",
    "    Xtrain = Xtrain.to_numpy()\n",
    "    Ytrain = df.iloc[:,-1].values\n",
    "    Ytrain[Ytrain == ' positive'] = 1\n",
    "    Ytrain[Ytrain == ' negative'] = 0\n",
    "    Xtest = dftest._get_numeric_data()\n",
    "    Xtest = Xtest.to_numpy()\n",
    "    Ytest = dftest.iloc[:,-1:].values\n",
    "    Ytest[Ytest == ' positive'] = 1\n",
    "    Ytest[Ytest == ' negative'] = 0\n",
    "    return Xtrain,Ytrain.astype(int),Xtest,Ytest.astype(int)\n",
    "\n",
    "datasets = ['abalone9-18',\n",
    "'abalone19',\n",
    "'ecoli-0_vs_1',\n",
    "'ecoli-0-1-3-7_vs_2-6',\n",
    "'ecoli1',\n",
    "'ecoli2',\n",
    "'ecoli3',\n",
    "'ecoli4',\n",
    "'glass0',\n",
    "'glass-0-1-2-3_vs_4-5-6',\n",
    "'glass-0-1-6_vs_2',\n",
    "'glass-0-1-6_vs_5',\n",
    "'glass1',\n",
    "'glass2',\n",
    "'glass4',\n",
    "'glass5',\n",
    "'glass6',\n",
    "'haberman',\n",
    "'iris0',\n",
    "'new-thyroid1',\n",
    "'newthyroid2',\n",
    "'page-blocks0',\n",
    "'page-blocks-1-3_vs_4',\n",
    "'pima',\n",
    "'segment0',\n",
    "'shuttle-c0-vs-c4',\n",
    "'shuttle-c2-vs-c4',\n",
    "'vehicle0',\n",
    "'vehicle1',\n",
    "'vehicle2',\n",
    "'vehicle3',\n",
    "'vowel0',\n",
    "'wisconsin',\n",
    "'yeast-0-5-6-7-9_vs_4',\n",
    "'yeast1',\n",
    "'yeast-1_vs_7',\n",
    "'yeast-1-2-8-9_vs_7',\n",
    "'yeast-1-4-5-8_vs_7',\n",
    "'yeast-2_vs_4',\n",
    "'yeast-2_vs_8',\n",
    "'yeast3',\n",
    "'yeast4',\n",
    "'yeast5',\n",
    "'yeast6']"
   ]
  },
  {
   "cell_type": "markdown",
   "metadata": {},
   "source": [
    "For any dataset, we subsample the majority class according to the number of samples in the minority class to balance the class distribution and avoid biased classification results. Then we train a Support Vector Machine (SVM) to assess the performance of our method. We perform a nested cross-validation to find the best kernel bandwidth ($\\sigma$) for the Gaussian Kernel involved in the computation of JRD."
   ]
  },
  {
   "cell_type": "code",
   "execution_count": 18,
   "metadata": {},
   "outputs": [],
   "source": [
    "def train_imbalanced(dataset, n_rff = None):\n",
    "    \"\"\"\n",
    "    This function performs the JRD-subsampling and classification\n",
    "    for an imbalanced dataset in the KEEL repository. It returns the\n",
    "    Area Under the ROC curve (AUC) at every fold of the dataset. \n",
    "    \n",
    "    Optional arg:\n",
    "        n_rff: Number of Random Fourier Features to approximate Gaussian Kernel\n",
    "    \"\"\"\n",
    "    print(f'Processing {dataset} dataset ')\n",
    "\n",
    "    AUC = np.zeros(5)\n",
    "    alpha = 1.01\n",
    "    n_sigmas = 10   \n",
    "\n",
    "    for fold in range(1,6):\n",
    "        print(f'Processing Fold {fold}')\n",
    "        Xtrain,Ytrain,Xtest,Ytest = load_dataset(dataset,fold)\n",
    "        # Standard normalization\n",
    "        scaler = StandardScaler()\n",
    "        Xtrain = scaler.fit_transform(Xtrain)\n",
    "        Xtest  = scaler.transform(Xtest)\n",
    "        #Find the majority and minority classes\n",
    "        maj_label = np.bincount(Ytrain).argmax()\n",
    "        min_label = np.bincount(Ytrain).argmin()\n",
    "        # Separate the data into majority and minority class \n",
    "        Xmaj = Xtrain[Ytrain == maj_label,:]\n",
    "        Xmin = Xtrain[Ytrain == min_label,:]\n",
    "        #Sigma tuning for subsampling\n",
    "        # nested cross-val\n",
    "        Xtrain_, Xtest_, Ytrain_, Ytest_ = train_test_split(Xtrain, Ytrain, test_size=0.25, random_state=42)\n",
    "        Xmaj_cv = Xtrain_[Ytrain_ == maj_label,:]\n",
    "        Xmin_cv = Xtrain_[Ytrain_ == min_label,:]\n",
    "\n",
    "        sigma0 = np.nanmedian(pairwise_distances(Xmaj_cv))\n",
    "        sigmas = np.linspace(0.01*sigma0,3*sigma0,n_sigmas)\n",
    "        AUC_cv = np.zeros(sigmas.size)\n",
    "        for i,sigma in enumerate(sigmas):\n",
    "            Xmaj_cv_ = JRD_sampling(Xmaj_cv,n_samples= Xmin_cv.shape[0],sigma = sigma,alpha=alpha,lr = 0.1, weighted = True, n_rff = n_rff)\n",
    "            Xtrain_cv = np.concatenate((Xmaj_cv_, Xmin_cv), axis=0)\n",
    "            Ytrain_cv = np.concatenate((maj_label*np.ones(Xmaj_cv_.shape[0]),min_label*np.ones(Xmin_cv.shape[0])),axis=0)\n",
    "            C_range = np.logspace(0,3,7)\n",
    "            s0 = np.nanmedian(pairwise_distances(Xmaj_cv_))\n",
    "            gamma_range = 1/(2*(np.linspace(0.01*s0,3*s0,7))**2)\n",
    "            param_grid = dict(gamma=gamma_range,C=C_range)\n",
    "            cv = StratifiedShuffleSplit(n_splits=4, test_size=0.25)\n",
    "            grid = GridSearchCV(SVC(), param_grid=param_grid, cv=cv)\n",
    "            grid.fit(Xtrain_cv, Ytrain_cv)\n",
    "            best_params = grid.best_params_\n",
    "            # Use those parameter to train a SVM        \n",
    "            clf = SVC(kernel = 'rbf',C=best_params['C'], gamma=best_params['gamma'], probability = True)\n",
    "            clf.fit(Xtrain_cv, Ytrain_cv)\n",
    "            # Finally, compute the AUC score to assess the SVM performance\n",
    "            try:\n",
    "                AUC_cv[i] = roc_auc_score(Ytest_, clf.predict_proba(Xtest_)[:, 1])   \n",
    "            except ValueError:\n",
    "                pass\n",
    "        #Choose the best sigma in the nested cross val\n",
    "        sigma = sigmas[np.argmax(AUC_cv)]\n",
    "        # Apply the subsampling with the best sigma\n",
    "        Xmaj_ = JRD_sampling(Xmaj,n_samples = Xmin.shape[0],sigma =sigma,alpha=alpha,lr = 0.1, weighted = True, n_rff = n_rff)\n",
    "        # Concatenate the subsampled set with the minority class\n",
    "        Xtrain_ = np.concatenate((Xmaj_, Xmin), axis=0)\n",
    "        Ytrain_ = np.concatenate((maj_label*np.ones(Xmaj_.shape[0]),min_label*np.ones(Xmin.shape[0])),axis=0)\n",
    "\n",
    "        # Tune the parameters for the SVM        \n",
    "        C_range = np.logspace(0,3,7)\n",
    "        s0 = np.nanmedian(pairwise_distances(Xmaj_))\n",
    "        gamma_range = 1/(2*(np.linspace(0.01*s0,3*s0,7))**2)\n",
    "\n",
    "        param_grid = dict(gamma=gamma_range,C=C_range)\n",
    "        cv = StratifiedShuffleSplit(n_splits=4, test_size=0.25)\n",
    "        grid = GridSearchCV(SVC(), param_grid=param_grid, cv=cv)\n",
    "        grid.fit(Xtrain_, Ytrain_)\n",
    "        best_params = grid.best_params_\n",
    "        # Use those parameter to train a SVM        \n",
    "        clf = SVC(kernel = 'rbf',C=best_params['C'], gamma=best_params['gamma'], probability = True)\n",
    "        clf.fit(Xtrain_, Ytrain_)\n",
    "\n",
    "        # Finally, compute the AUC score to assess the SVM performance              \n",
    "        AUC[(fold-1)] = roc_auc_score(Ytest, clf.predict_proba(Xtest)[:, 1])\n",
    "    print(f'{dataset} was processed')\n",
    "    return AUC"
   ]
  },
  {
   "cell_type": "code",
   "execution_count": 19,
   "metadata": {},
   "outputs": [
    {
     "name": "stdout",
     "output_type": "stream",
     "text": [
      "Processing abalone9-18 dataset \n",
      "Processing Fold 1\n",
      "Processing Fold 2\n",
      "Processing Fold 3\n",
      "Processing Fold 4\n",
      "Processing Fold 5\n",
      "abalone9-18 was processed\n"
     ]
    },
    {
     "data": {
      "text/plain": [
       "array([0.96215781, 0.96918086, 0.91485507, 0.92663043, 0.97810219])"
      ]
     },
     "execution_count": 19,
     "metadata": {},
     "output_type": "execute_result"
    }
   ],
   "source": [
    "# You can run for any of the datasets in the list above.  \n",
    "dataset = datasets[0]\n",
    "AUC = train_imbalanced(dataset)\n",
    "AUC"
   ]
  },
  {
   "cell_type": "code",
   "execution_count": 11,
   "metadata": {},
   "outputs": [
    {
     "name": "stdout",
     "output_type": "stream",
     "text": [
      "Processing abalone9-18 dataset \n",
      "Processing Fold 1\n",
      "Processing Fold 2\n",
      "Processing Fold 3\n",
      "Processing Fold 4\n",
      "Processing Fold 5\n",
      "abalone9-18 was processed\n"
     ]
    },
    {
     "data": {
      "text/plain": [
       "array([0.95853462, 0.9351176 , 0.84782609, 0.92934783, 0.97729116])"
      ]
     },
     "execution_count": 11,
     "metadata": {},
     "output_type": "execute_result"
    }
   ],
   "source": [
    "# The same experiment using Random Fourier Features\n",
    "dataset = datasets[0]\n",
    "AUC = train_imbalanced(dataset,n_rff = 250)\n",
    "AUC"
   ]
  },
  {
   "cell_type": "code",
   "execution_count": null,
   "metadata": {},
   "outputs": [],
   "source": []
  }
 ],
 "metadata": {
  "kernelspec": {
   "display_name": "Python 3",
   "language": "python",
   "name": "python3"
  },
  "language_info": {
   "codemirror_mode": {
    "name": "ipython",
    "version": 3
   },
   "file_extension": ".py",
   "mimetype": "text/x-python",
   "name": "python",
   "nbconvert_exporter": "python",
   "pygments_lexer": "ipython3",
   "version": "3.8.5"
  }
 },
 "nbformat": 4,
 "nbformat_minor": 4
}
